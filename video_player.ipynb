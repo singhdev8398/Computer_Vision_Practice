{
 "cells": [
  {
   "cell_type": "code",
   "execution_count": 1,
   "id": "45689b36",
   "metadata": {},
   "outputs": [],
   "source": [
    "import numpy as np\n",
    "import cv2"
   ]
  },
  {
   "cell_type": "code",
   "execution_count": 19,
   "id": "468affaa",
   "metadata": {},
   "outputs": [],
   "source": [
    "videopath1=r\"E:\\nit\\nit agartala.mp4\"\n",
    "videopath2=r\"E:\\lost.in.space\\lost in space S 3\\Lost in Space S03 E04 WebRip Hindi English 480p MSubs - mkvCinemas.mkv\""
   ]
  },
  {
   "cell_type": "code",
   "execution_count": 14,
   "id": "33c69bc5",
   "metadata": {},
   "outputs": [],
   "source": [
    "cap=cv2.VideoCapture(0)"
   ]
  },
  {
   "cell_type": "code",
   "execution_count": 15,
   "id": "230ebbfa",
   "metadata": {},
   "outputs": [],
   "source": [
    "cap=cv2.VideoCapture(0)\n",
    "while cap.isOpened():\n",
    "    ret,frame=cap.read()\n",
    "    if ret:\n",
    "        frame=cv2.resize(frame,(600,400))\n",
    "        cv2.imshow(\"image\",frame)\n",
    "        if cv2.waitKey(25)& 0xff==ord('q'):\n",
    "            break\n",
    "    else:\n",
    "        break\n",
    "cap.release()\n",
    "cv2.destroyAllWindows()"
   ]
  },
  {
   "cell_type": "code",
   "execution_count": 20,
   "id": "4c67ce53",
   "metadata": {},
   "outputs": [],
   "source": [
    "cap=cv2.VideoCapture(videopath2)\n",
    "while cap.isOpened():\n",
    "    ret,frame=cap.read()\n",
    "    if ret:\n",
    "        frame=cv2.resize(frame,(600,400))\n",
    "        frame_2=np.hstack((frame,frame))\n",
    "        frame_4=np.vstack((frame_2,frame_2))\n",
    "        cv2.imshow(\"image\",frame_4)\n",
    "        if cv2.waitKey(25)& 0xff==ord('q'):\n",
    "            break\n",
    "    else:\n",
    "        break\n",
    "cap.release()\n",
    "cv2.destroyAllWindows()"
   ]
  },
  {
   "cell_type": "code",
   "execution_count": 24,
   "id": "d3ca2298",
   "metadata": {},
   "outputs": [],
   "source": [
    "cap1=cv2.VideoCapture(videopath1)\n",
    "cap2=cv2.VideoCapture(videopath2)\n",
    "while cap1.isOpened():\n",
    "    ret1,frame1=cap1.read()\n",
    "    ret2,frame2=cap2.read()\n",
    "    if ret1:\n",
    "        frame_1=cv2.resize(frame1,(600,400))\n",
    "        frame_2=cv2.resize(frame2,(600,400))\n",
    "        frame=np.hstack((frame_1,frame_2))\n",
    "        frame_4=np.vstack((frame,frame))\n",
    "        cv2.imshow(\"image\",frame_4)\n",
    "        if cv2.waitKey(25)& 0xff==ord('q'):\n",
    "            break\n",
    "    else:\n",
    "        break\n",
    "cap.release()\n",
    "cv2.destroyAllWindows()"
   ]
  },
  {
   "cell_type": "code",
   "execution_count": null,
   "id": "bf7a98da",
   "metadata": {},
   "outputs": [],
   "source": []
  }
 ],
 "metadata": {
  "kernelspec": {
   "display_name": "Python 3 (ipykernel)",
   "language": "python",
   "name": "python3"
  },
  "language_info": {
   "codemirror_mode": {
    "name": "ipython",
    "version": 3
   },
   "file_extension": ".py",
   "mimetype": "text/x-python",
   "name": "python",
   "nbconvert_exporter": "python",
   "pygments_lexer": "ipython3",
   "version": "3.10.9"
  }
 },
 "nbformat": 4,
 "nbformat_minor": 5
}
